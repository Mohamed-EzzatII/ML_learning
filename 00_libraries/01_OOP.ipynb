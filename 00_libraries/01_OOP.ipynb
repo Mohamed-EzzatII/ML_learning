{
 "cells": [
  {
   "cell_type": "markdown",
   "metadata": {},
   "source": [
    "# Object Oriented Programming (OOP)\n",
    "- This Notebook containes the basics of OOP only\n",
    "- **Source** https://www.youtube.com/playlist?list=PLomhh4glOqzALfR4ooOMTdC8-ptCU8loD"
   ]
  },
  {
   "cell_type": "code",
   "execution_count": 9,
   "metadata": {},
   "outputs": [
    {
     "name": "stdout",
     "output_type": "stream",
     "text": [
      "Welcome to Person class\n",
      "Name : Mohamed\n",
      "Age : 22\n"
     ]
    }
   ],
   "source": [
    "class Person:\n",
    "    def __init__(self,name,age):\n",
    "        print(\"Welcome to Person class\")\n",
    "        self.name = name\n",
    "        self.age=age\n",
    "\n",
    "    def print_attr(self):\n",
    "        print(f'Name : {self.name}\\nAge : {self.age}')\n",
    "\n",
    "obj= Person(\"Mohamed\",22)\n",
    "obj.print_attr()\n"
   ]
  },
  {
   "cell_type": "code",
   "execution_count": 12,
   "metadata": {},
   "outputs": [
    {
     "name": "stdout",
     "output_type": "stream",
     "text": [
      "Welcome to Person class\n",
      "Name : Mohamed\n",
      "Age : 22\n",
      "GPA : 3.14\n"
     ]
    }
   ],
   "source": [
    "\n",
    "class Student:\n",
    "    def __init__(self,name,age,gpa):\n",
    "        Person.__init__(self,name,age)\n",
    "        self.gpa = gpa\n",
    "    \n",
    "    def print_student(self):\n",
    "        print(f'Name : {self.name}\\nAge : {self.age}\\nGPA : {self.gpa}')\n",
    "\n",
    "obj= Student(\"Mohamed\",22,3.14)\n",
    "obj.print_student()\n"
   ]
  }
 ],
 "metadata": {
  "kernelspec": {
   "display_name": "Python 3",
   "language": "python",
   "name": "python3"
  },
  "language_info": {
   "codemirror_mode": {
    "name": "ipython",
    "version": 3
   },
   "file_extension": ".py",
   "mimetype": "text/x-python",
   "name": "python",
   "nbconvert_exporter": "python",
   "pygments_lexer": "ipython3",
   "version": "3.13.0"
  }
 },
 "nbformat": 4,
 "nbformat_minor": 2
}
