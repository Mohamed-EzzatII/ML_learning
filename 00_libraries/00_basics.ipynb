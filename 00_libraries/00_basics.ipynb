{
 "cells": [
  {
   "cell_type": "markdown",
   "metadata": {},
   "source": [
    "# Python Basics\n",
    "- **Source:** https://www.youtube.com/playlist?list=PLomhh4glOqzALfR4ooOMTdC8-ptCU8loD"
   ]
  },
  {
   "cell_type": "code",
   "execution_count": 1,
   "metadata": {},
   "outputs": [
    {
     "name": "stdout",
     "output_type": "stream",
     "text": [
      "hello\n"
     ]
    }
   ],
   "source": [
    "print(\"hello\")"
   ]
  },
  {
   "cell_type": "markdown",
   "metadata": {},
   "source": [
    "## Strings\n",
    "In Python, **strings** are sequences of characters enclosed in single, double, or triple quotes. Strings are widely used to store and manipulate textual data, and Python provides many built-in functions and methods for handling them effectively.\n",
    "\n",
    "### Creating Strings\n",
    "You can create strings by enclosing characters in either single quotes (`'`) or double quotes (`\"`).\n",
    "\n",
    "### Accessing Characters in Strings\n",
    "Strings are **indexed**, meaning you can access individual characters using square brackets `[]` and an index number (starting from `0`).\n",
    "\n",
    "### String Slicing\n",
    "You can extract parts of a string using **slicing**. The slicing syntax is `string[start:end:step]`.\n",
    "\n",
    "### Modifying Strings\n",
    "Strings in Python are **immutable**, meaning you cannot change their content directly. However, you can create new strings based on modifications.\n",
    "\n",
    "### String Concatenation and Repetition\n",
    "You can combine strings using the `+` operator (concatenation) and repeat them using the `*` operator.\n",
    "\n",
    "### String Methods\n",
    "Python provides many methods for manipulating strings. Here are some commonly used ones:\n",
    "\n",
    "1. **`lower()`** and **`upper()`**: Converts a string to lowercase or uppercase.\n",
    "2. **`strip()`**, **`lstrip()`**, and **`rstrip()`**: Removes whitespace or specified characters from the beginning and end of the string.\n",
    "3. **`replace(old, new)`**: Replaces occurrences of a substring with another substring.\n",
    "4. **`split(separator)`**: Splits a string into a list of substrings based on a separator.\n",
    "5. **`join(iterable)`**: Joins the elements of an iterable (like a list) into a single string, using the string as a separator.\n",
    "6. **`find(substring)`** and **`index(substring)`**: Returns the index of the first occurrence of a substring. `find()` returns `-1` if the substring is not found, whereas `index()` raises an error.```\n",
    "7. **`startswith()`** and **`endswith()`**: Checks if the string starts or ends with a specified substring.\n",
    "8. **`count(substring)`**: Counts the number of occurrences of a substring in the string.\n",
    "\n",
    "### Formatting Strings\n",
    "Python offers multiple ways to format strings:\n",
    "**f-Strings (Python 3.6+)**: This is the most modern and convenient way.\n",
    "- **Example**   print(f\"My name is {name} and I am {age} years old.\")\n",
    "\n",
    "\n",
    "### String Escape Sequences\n",
    "Some special characters in strings have to be **escaped** using a backslash (`\\`). These include:\n",
    "- `\\n`: New line\n",
    "- `\\t`: Tab\n",
    "- `\\'`: Single quote\n",
    "- `\\\"`: Double quote\n",
    "- `\\\\`: Backslash\n",
    "\n",
    "### Checking String Properties\n",
    "Python provides methods to check if a string consists of certain types of characters:\n",
    "\n",
    "- **`isalnum()`**: Returns `True` if the string contains only letters and digits.\n",
    "- **`isalpha()`**: Returns `True` if the string contains only letters.\n",
    "- **`isdigit()`**: Returns `True` if the string contains only digits.\n",
    "- **`isspace()`**: Returns `True` if the string contains only whitespace characters.\n",
    "- **`istitle()`**: Returns `True` if the string follows title case.\n",
    "\n",
    "### Multiline Strings and Raw Strings\n",
    "- **Multiline Strings**: You can create multiline strings using triple quotes (`'''` or `\"\"\"`).\n",
    "- **Raw Strings**: Prefixing a string with `r` will ignore escape characters (like `\\n`)."
   ]
  },
  {
   "cell_type": "code",
   "execution_count": 3,
   "metadata": {},
   "outputs": [
    {
     "name": "stdout",
     "output_type": "stream",
     "text": [
      "Mohamed Test Mohamed\n",
      "Mohamed Ezzat Mohamed\n"
     ]
    }
   ],
   "source": [
    "x = \"Mohamed Ezzat Mohamed\"\n",
    "print(x.replace(\"Ezzat\",\"Test\"))\n",
    "print(x)"
   ]
  },
  {
   "cell_type": "code",
   "execution_count": 4,
   "metadata": {},
   "outputs": [
    {
     "name": "stdout",
     "output_type": "stream",
     "text": [
      "Mohamed Ezzat10\n"
     ]
    }
   ],
   "source": [
    "x = \"Mohamed Ezzat\"\n",
    "y = 10\n",
    "print(x+str(y))"
   ]
  },
  {
   "cell_type": "markdown",
   "metadata": {},
   "source": [
    "## If Condition "
   ]
  },
  {
   "cell_type": "code",
   "execution_count": 5,
   "metadata": {},
   "outputs": [
    {
     "name": "stdout",
     "output_type": "stream",
     "text": [
      "high salary\n"
     ]
    }
   ],
   "source": [
    "salary = 1500\n",
    "if salary < 1000:\n",
    "    print(\"low salary\")\n",
    "\n",
    "elif salary < 1500:\n",
    "    print(\"mid salary\")\n",
    "\n",
    "elif salary < 3000:\n",
    "    print(\"high salary\")"
   ]
  },
  {
   "cell_type": "markdown",
   "metadata": {},
   "source": [
    "## For Loop"
   ]
  },
  {
   "cell_type": "code",
   "execution_count": 6,
   "metadata": {},
   "outputs": [
    {
     "name": "stdout",
     "output_type": "stream",
     "text": [
      "0\n",
      "1\n",
      "2\n",
      "3\n",
      "4\n"
     ]
    }
   ],
   "source": [
    "for i in range(5):\n",
    "    print(i)"
   ]
  },
  {
   "cell_type": "code",
   "execution_count": 7,
   "metadata": {},
   "outputs": [
    {
     "name": "stdout",
     "output_type": "stream",
     "text": [
      "1\n",
      "2\n",
      "3\n",
      "medo\n",
      "True\n",
      "2.4\n"
     ]
    }
   ],
   "source": [
    "l = [1,2,3,\"medo\",True,2.4]\n",
    "for i in l:\n",
    "    print(i)"
   ]
  },
  {
   "cell_type": "code",
   "execution_count": 8,
   "metadata": {},
   "outputs": [
    {
     "name": "stdout",
     "output_type": "stream",
     "text": [
      "0\n",
      "2\n",
      "4\n",
      "6\n",
      "8\n"
     ]
    }
   ],
   "source": [
    "for i in range(0,10,2):\n",
    "    print(i)"
   ]
  },
  {
   "cell_type": "code",
   "execution_count": 9,
   "metadata": {},
   "outputs": [],
   "source": [
    "for i in range(0,10,2):\n",
    "    pass # to don't give an error"
   ]
  },
  {
   "cell_type": "code",
   "execution_count": 10,
   "metadata": {},
   "outputs": [
    {
     "name": "stdout",
     "output_type": "stream",
     "text": [
      "m\n",
      "o\n",
      "h\n",
      "a\n",
      "m\n",
      "e\n",
      "d\n"
     ]
    }
   ],
   "source": [
    "x = \"mohamed\"\n",
    "for  i in x:\n",
    "    print(i)"
   ]
  },
  {
   "cell_type": "markdown",
   "metadata": {},
   "source": [
    "### Lists:\n",
    " - a collection that allows you to store multiple items (elements) in a single variable. Lists are one of the most commonly used data structures in Python because they are versatile and easy to work with.\n",
    "\n",
    "#### Key Features of Python Lists:\n",
    "- Ordered: Lists maintain the order of elements. This means that the items have a defined position, and you can access elements based on their index.\n",
    "- Mutable: Lists can be changed after creation, meaning you can add, remove, or modify elements.\n",
    "- Heterogeneous: A list can contain elements of different data types (e.g., integers, strings, floats).\n",
    "- Indexed: Each element in a list is assigned an index starting from 0. You can access elements using their index.\n",
    "\n",
    "#### List Functions and Methods:\n",
    "- len(list): Returns the number of elements in a list.\n",
    "- append(): Adds an element to the end of the list.\n",
    "- remove(): Removes the first occurrence of a specified value.\n",
    "- insert(index, value): Inserts an element at a specific index.\n",
    "- sort(): Sorts the list in place.\n",
    "- reverse(): Reverses the order of the elements in place."
   ]
  },
  {
   "cell_type": "code",
   "execution_count": 19,
   "metadata": {},
   "outputs": [
    {
     "name": "stdout",
     "output_type": "stream",
     "text": [
      "['Mohamed1', 'Ezzat', 'Mohamed2']\n",
      "Mohamed1\n",
      "Mohamed2\n",
      "['Mohamed1']\n",
      "['Mohamed1']\n"
     ]
    }
   ],
   "source": [
    "names=[\"Mohamed1\",\"Ezzat\",\"Mohamed2\"]\n",
    "print(names)\n",
    "print(names[0])\n",
    "print(names[-1])\n",
    "print(names[0:1])\n",
    "print(names[0:2:2])"
   ]
  },
  {
   "cell_type": "code",
   "execution_count": 21,
   "metadata": {},
   "outputs": [
    {
     "name": "stdout",
     "output_type": "stream",
     "text": [
      "['Mohamed1', 'Ezzat', 'Mohamed2', 'Ibrahim']\n",
      "Mohamed2\n",
      "['Mohamed1', 'Ezzat', 'Ibrahim']\n",
      "['Ibrahim', 'Ezzat', 'Mohamed1']\n"
     ]
    }
   ],
   "source": [
    "names=[\"Mohamed1\",\"Ezzat\",\"Mohamed2\"]\n",
    "names.append(\"Ibrahim\")\n",
    "print(names)\n",
    "print(names.pop(2))\n",
    "print(names)\n",
    "names.reverse()\n",
    "print(names)"
   ]
  },
  {
   "cell_type": "markdown",
   "metadata": {},
   "source": [
    "### Tuples:\n",
    "- tuple is similar to a list in that it can store multiple items in a single variable. However, there are a few key differences between tuples and lists that make tuples useful in certain situations.\n",
    "\n",
    "#### Key Features of Python Tuples:\n",
    "1. Ordered: Like lists, tuples are ordered collections, meaning the items have a defined position.\n",
    "2. Immutable: Once a tuple is created, you cannot change, add, or remove elements. This immutability makes tuples useful for data that should not be modified.\n",
    "3. Heterogeneous: Tuples can store elements of different data types, just like lists.\n",
    "4. Indexed: Elements in a tuple can be accessed using an index, starting from 0.\n",
    "\n",
    "#### Tuples Methods \n",
    "- Since tuples are immutable, they don't have many of the methods that lists have (like append(), remove(), etc.), but they do have a few built-in functions:\n",
    "\n",
    "1. len(tuple): Returns the number of elements in the tuple.\n",
    "2. index(value): Returns the index of the first occurrence of the specified value.\n",
    "3. count(value): Returns the number of times a specified value appears in the tuple."
   ]
  },
  {
   "cell_type": "code",
   "execution_count": 23,
   "metadata": {},
   "outputs": [
    {
     "name": "stdout",
     "output_type": "stream",
     "text": [
      "9\n",
      "1\n",
      "[1, 2, 3, 4, 5, 6, 7, 8, 9]\n",
      "(9, 2, 3, 4, 5, 6, 7, 8, 1)\n",
      "45\n"
     ]
    }
   ],
   "source": [
    "mytpl=(9,2,3,4,5,6,7,8,1)\n",
    "print(max(mytpl))\n",
    "print(min(mytpl))\n",
    "print(sorted(mytpl)) # the tuple itself is not changed\n",
    "print(mytpl)\n",
    "print(sum(mytpl))\n"
   ]
  },
  {
   "cell_type": "markdown",
   "metadata": {},
   "source": [
    "### Set\n",
    "- A set is a collection type that is unordered and unindexed, meaning the elements do not have a specific order and cannot be accessed by an index like lists or tuples. Sets are commonly used when you want to store unique items and perform operations like unions, intersections, and differences.\n",
    "\n",
    "#### Key Features of Python Sets:\n",
    "1. Unordered: The items in a set do not have a defined order. This means you cannot be sure of the order in which the elements will appear.\n",
    "2. Unique Elements: A set cannot have duplicate elements. If you try to add a duplicate, it will be ignored.\n",
    "3. Mutable: You can add or remove elements from a set after it is created, but the elements themselves must be immutable (e.g., strings, numbers, tuples).\n",
    "4. Unindexed: You cannot access set items by referring to an index or a key, as sets do not support indexing or slicing.\n",
    "\n",
    "#### Set Methods:\n",
    "1. add(): Adds an element to the set.\n",
    "2. remove(): Removes an element (raises an error if the element doesn’t exist).\n",
    "3. discard(): Removes an element (does not raise an error if the element doesn’t exist).\n",
    "4. union(): Combines elements from multiple sets.\n",
    "5. intersection(): Returns common elements between sets.\n",
    "6. difference(): Returns elements that are in one set but not in another.\n",
    "7. symmetric_difference(): Returns elements that are in either of the sets but not in both.\n",
    "8. clear(): Removes all elements from the set."
   ]
  },
  {
   "cell_type": "code",
   "execution_count": 27,
   "metadata": {},
   "outputs": [
    {
     "name": "stdout",
     "output_type": "stream",
     "text": [
      "{1, 2, 3, 4}\n",
      "{1, 2, 3, 4, 5}\n",
      "{1, 2, 3, 4, 5}\n",
      "{2, 3, 4, 5}\n",
      "{3, 4, 5}\n"
     ]
    }
   ],
   "source": [
    "my_set = {1,2,3,4}\n",
    "print(my_set)\n",
    "my_set.add(5)\n",
    "print(my_set)\n",
    "my_set.discard(7)\n",
    "print(my_set)\n",
    "my_set.discard(1)\n",
    "print(my_set)\n",
    "my_set.remove(2)\n",
    "print(my_set)\n"
   ]
  },
  {
   "cell_type": "markdown",
   "metadata": {},
   "source": [
    "### Dictionary \n",
    "- a dictionary is a collection that stores data in key-value pairs. Each key is associated with a value, and you use the key to access its corresponding value. Dictionaries are similar to real-world dictionaries where you look up a word (the key) and get its definition (the value).\n",
    "\n",
    "\n",
    "#### Key Features of Python Dictionaries:\n",
    "1. Key-Value Pairs: Each item in a dictionary is a pair consisting of a key and a value. Keys must be unique and immutable (strings, numbers, or tuples), while values can be of any data type and can be duplicated.\n",
    "2. Unordered: Dictionaries do not maintain a specific order for their elements. (In Python 3.7 and later, dictionaries maintain the insertion order, but the concept of ordering is still different from lists.)\n",
    "3. Mutable: You can modify a dictionary by adding, removing, or changing key-value pairs after it is created.\n",
    "Indexed by Keys: You access dictionary elements by their keys, not by an index like in lists or tuples.\n",
    "\n",
    "\n",
    "\n",
    "#### Dictionary Methods:\n",
    "1. get(key): Returns the value for the given key, or None if the key is not found.\n",
    "2. pop(key): Removes the key and returns its value.\n",
    "3. keys(): Returns a view of all the keys in the dictionary.\n",
    "4. values(): Returns a view of all the values in the dictionary.\n",
    "5. items(): Returns a view of all key-value pairs.\n",
    "6. update(): Merges another dictionary into the current dictionary.\n",
    "7. clear(): Removes all items from the dictionary."
   ]
  },
  {
   "cell_type": "code",
   "execution_count": 28,
   "metadata": {},
   "outputs": [
    {
     "name": "stdout",
     "output_type": "stream",
     "text": [
      "{'name': 'Mohamed', 'age': 12, 'salary': 2400, 'Married': False}\n",
      "Mohamed\n",
      "Mohamed\n",
      "dict_keys(['name', 'age', 'salary', 'Married'])\n",
      "dict_values(['Mohamed', 12, 2400, False])\n",
      "dict_items([('name', 'Mohamed'), ('age', 12), ('salary', 2400), ('Married', False)])\n"
     ]
    }
   ],
   "source": [
    "dict1={\n",
    "    \"name\" : \"Mohamed\",\n",
    "    \"age\" : 12,\n",
    "    \"salary\" : 2400,\n",
    "    \"Married\": False\n",
    "}\n",
    "\n",
    "print(dict1)\n",
    "print(dict1[\"name\"])\n",
    "print(dict1.get(\"name\"))\n",
    "print(dict1.keys())\n",
    "print(dict1.values())\n",
    "print(dict1.items())\n",
    "\n"
   ]
  }
 ],
 "metadata": {
  "kernelspec": {
   "display_name": "Python 3",
   "language": "python",
   "name": "python3"
  },
  "language_info": {
   "codemirror_mode": {
    "name": "ipython",
    "version": 3
   },
   "file_extension": ".py",
   "mimetype": "text/x-python",
   "name": "python",
   "nbconvert_exporter": "python",
   "pygments_lexer": "ipython3",
   "version": "3.13.0"
  }
 },
 "nbformat": 4,
 "nbformat_minor": 2
}
