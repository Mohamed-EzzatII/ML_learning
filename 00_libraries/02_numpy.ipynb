{
 "cells": [
  {
   "cell_type": "markdown",
   "metadata": {},
   "source": [
    "# Numpy Library\n",
    "\n",
    "- **Source 1 (All):** https://www.youtube.com/playlist?list=PLCC34OHNcOtpalASMlX2HHdsLNipyyhbK\n",
    "- **Source 2 (First 4 Videos of numpy videos):** https://www.youtube.com/playlist?list=PL6-3IRz2XF5UM-FWfQeF1_YhMMa12Eg3s"
   ]
  },
  {
   "cell_type": "code",
   "execution_count": 1,
   "metadata": {},
   "outputs": [],
   "source": [
    "import numpy as np"
   ]
  },
  {
   "cell_type": "markdown",
   "metadata": {},
   "source": [
    "#### Trigonometric Functions : -\n",
    "\n",
    "1. **`np.tan(angle_in_degree):`** \n",
    "   - Calculate the sin of the angle\n",
    "2. **`np.cos(angle_in_degree):`** \n",
    "   - Calculate the cos of the angle\n",
    "3. **`np.tan(angle_in_degree):`**\n",
    "   - Calculate the tan of the angle"
   ]
  },
  {
   "cell_type": "code",
   "execution_count": 2,
   "metadata": {},
   "outputs": [
    {
     "name": "stdout",
     "output_type": "stream",
     "text": [
      "-0.9880316240928618\n",
      "0.15425144988758405\n",
      "-6.405331196646276\n"
     ]
    }
   ],
   "source": [
    "\n",
    "print(np.sin(30))\n",
    "print(np.cos(30))\n",
    "print(np.tan(30))"
   ]
  },
  {
   "cell_type": "markdown",
   "metadata": {},
   "source": [
    "#### NumPy Round Function:\n",
    "\n",
    "1. **`np.round(value)`**:\n",
    "   - This function rounds a floating-point number to the nearest integer. If the decimal part is `.5` or greater, it rounds up; otherwise, it rounds down.\n",
    "\n",
    "2. **`np.round(value, decimals)`**:\n",
    "   - This function rounds a floating-point number to a specified number of decimal places. The `decimals` parameter indicates how many digits to keep after the decimal point. "
   ]
  },
  {
   "cell_type": "code",
   "execution_count": 3,
   "metadata": {},
   "outputs": [
    {
     "name": "stdout",
     "output_type": "stream",
     "text": [
      "3.0\n",
      "3.12\n",
      "3.123\n"
     ]
    }
   ],
   "source": [
    "print(np.round(3.123456)) # approximate to the integer\n",
    "print(np.round(3.123456,2)) # approximate to the second decimal number\n",
    "print(np.round(3.123456,3)) # approximate to the third decimal number\n"
   ]
  },
  {
   "cell_type": "markdown",
   "metadata": {},
   "source": [
    "#### NumPy Floor and Ceil Functions:\n",
    "\n",
    "1. **`np.floor(value)`**:\n",
    "   - This function returns the largest integer less than or equal to the given floating-point number. It effectively rounds down to the nearest whole number.\n",
    "\n",
    "2. **`np.ceil(value)`**:\n",
    "   - This function returns the smallest integer greater than or equal to the given floating-point number. It effectively rounds up to the nearest whole number."
   ]
  },
  {
   "cell_type": "code",
   "execution_count": 4,
   "metadata": {},
   "outputs": [
    {
     "name": "stdout",
     "output_type": "stream",
     "text": [
      "floor : 3.0\n",
      "ceil : 4.0\n"
     ]
    }
   ],
   "source": [
    "print(f\"floor : {np.floor(3.99999999999)}\")\n",
    "print(f\"ceil : {np.ceil(3.000000000000001)}\")"
   ]
  },
  {
   "cell_type": "markdown",
   "metadata": {},
   "source": [
    "### NumPy 2D Array (Matrix):\n",
    "\n",
    "1. **Creating a 2D Array**:\n",
    "   - **`np.array([[1, 2], [3, 4]])`**: This function creates a 2-dimensional NumPy array (matrix) with the specified elements. In this case, it forms a matrix with two rows and two columns.\n",
    "\n",
    "2. **Error with Inconsistent Row Lengths**:\n",
    "   - **`np.array([[1, 2], [3, 4], [5, 6, 7]])`**: This will raise an error because the inner lists (rows) do not have the same length. NumPy requires that all rows in a 2D array have the same number of elements to maintain a rectangular shape. The first two rows have two elements each, while the last row has three elements, resulting in a shape inconsistency.\n"
   ]
  },
  {
   "cell_type": "code",
   "execution_count": 5,
   "metadata": {},
   "outputs": [
    {
     "name": "stdout",
     "output_type": "stream",
     "text": [
      "[[1 2]\n",
      " [3 4]]\n"
     ]
    }
   ],
   "source": [
    "matrix_2d = np.array([[1,2],[3,4]])\n",
    "print(matrix_2d)\n",
    "# error \n",
    "#  np.array([[1,2],[3,4],[5,6,7]])\n",
    "# \n"
   ]
  },
  {
   "cell_type": "markdown",
   "metadata": {},
   "source": [
    "### NumPy Empty Matrix:\n",
    "\n",
    "1. **`np.empty((3, 2))`**:\n",
    "   - This function creates a 3x2 matrix (3 rows and 2 columns) without initializing the values. The contents of the matrix will be random, often containing residual data from memory, so the numbers may seem arbitrary or unpredictable.\n",
    "   - The `empty()` function is useful when you want to quickly create an array with a specific shape and then populate it with values later. However, since it doesn’t initialize elements, it is not suitable for cases where you need a clean, zeroed-out matrix."
   ]
  },
  {
   "cell_type": "code",
   "execution_count": 6,
   "metadata": {},
   "outputs": [
    {
     "name": "stdout",
     "output_type": "stream",
     "text": [
      "[[6.23042070e-307 4.67296746e-307]\n",
      " [1.69121096e-306 2.67022274e-307]\n",
      " [2.67018234e-306 5.56268465e-309]]\n"
     ]
    }
   ],
   "source": [
    "empty_matrix = np.empty((3,2))\n",
    "print(empty_matrix)"
   ]
  },
  {
   "cell_type": "markdown",
   "metadata": {},
   "source": [
    "### NumPy `uniform` Function:\n",
    "\n",
    "1. **`np.random.uniform(1, 10)`**:\n",
    "   - This generates a single random floating-point number within the range `[1, 10)`. The number is chosen from a continuous uniform distribution, meaning each number in this interval has an equal chance of being selected.\n",
    "\n",
    "2. **`np.random.uniform(1, 10, 20)`**:\n",
    "   - This generates an array of 20 random floating-point numbers, each within the range `[1, 10)`. Each element in the array is independently drawn from the same uniform distribution.\n",
    "\n",
    "The `uniform` function is useful when you need a sequence or array of random numbers within a specific range for simulations, statistical sampling, or randomized algorithms."
   ]
  },
  {
   "cell_type": "code",
   "execution_count": 11,
   "metadata": {},
   "outputs": [
    {
     "name": "stdout",
     "output_type": "stream",
     "text": [
      "2.735567517524829\n",
      "[6.65691623 3.82849982 3.81440439 3.39892802 5.53914473 7.58424278\n",
      " 2.69836417 7.50891913 7.98223053 2.39901206 5.91614151 8.77998812\n",
      " 2.50415973 7.77157168 9.32170454 3.02469416 1.22577592 8.11138948\n",
      " 7.50832828 7.92794805]\n"
     ]
    }
   ],
   "source": [
    "a = np.random.uniform(1,10) # create a random number from 1 to 10\n",
    "print(a)\n",
    "b = np.random.uniform(1,10,20) # create a list of 20 random numbers from 1 to 10\n",
    "print(b)"
   ]
  },
  {
   "cell_type": "markdown",
   "metadata": {},
   "source": [
    "### NumPy `random` Function for 2D Array:\n",
    "\n",
    "1. **`np.random.random((2, 3))`**:\n",
    "   - This function generates a 2D array (matrix) with the specified shape, in this case, 2 rows and 3 columns.\n",
    "   - Each element in the array is a random floating-point number drawn from a uniform distribution over the range `[0, 1)`, where each number is equally likely to appear.\n",
    "\n",
    "The `random` function is useful for creating matrices of random values for testing algorithms, simulations, and for initializing values in machine learning models."
   ]
  },
  {
   "cell_type": "code",
   "execution_count": 13,
   "metadata": {},
   "outputs": [
    {
     "name": "stdout",
     "output_type": "stream",
     "text": [
      "[[0.32898496 0.49943776 0.55264911]\n",
      " [0.55599364 0.01199098 0.46096088]]\n"
     ]
    }
   ],
   "source": [
    "rand_matrix1 = np.random.random((2,3)) # create a 2d array of 3 random numbers with range 0 ~ 1\n",
    "print(rand_matrix1)"
   ]
  },
  {
   "cell_type": "markdown",
   "metadata": {},
   "source": [
    "### NumPy `randint` Function for Random Integer Arrays and Reshaping:\n",
    "\n",
    "1. **`np.random.randint(15)`**:\n",
    "   - Generates a single random integer from `0` up to `14`.\n",
    "\n",
    "2. **`np.random.randint(15, 30)`**:\n",
    "   - Generates a single random integer from `15` up to `29`.\n",
    "\n",
    "3. **`np.random.randint(15, 30, size=10)`**:\n",
    "   - Creates an array of 10 random integers, each between `15` and `29`.\n",
    "\n",
    "4. **`np.random.randint(15, 30, (3, 3))`**:\n",
    "   - Generates a `3x3` matrix where each element is a random integer between `15` and `29`.\n",
    "\n",
    "5. **`np.random.randint(15, 30, (3, 3, 3))`**:\n",
    "   - Creates a `3x3x3` 3D matrix where each element is a random integer between `15` and `29`. This 3D matrix consists of 3 layers of `3x3` matrices.\n",
    "\n",
    "6. **`np.reshape()` with `randint`**:\n",
    "   - **`np.random.randint(15, 30, size=10)`** generates a 1D array of 10 random integers between `15` and `29`.\n",
    "   - **`np.reshape(array, (2, 5))`** reshapes this 1D array into a `2x5` matrix, with 2 rows and 5 columns.\n"
   ]
  },
  {
   "cell_type": "code",
   "execution_count": 18,
   "metadata": {},
   "outputs": [
    {
     "name": "stdout",
     "output_type": "stream",
     "text": [
      "3\n",
      "27\n",
      "[22 15 19 25 25 29 25 26 20 27]\n",
      "[[15 23 21]\n",
      " [20 21 27]\n",
      " [20 27 25]]\n",
      "[[[20 16 28]\n",
      "  [22 19 27]\n",
      "  [16 17 27]]\n",
      "\n",
      " [[19 16 23]\n",
      "  [22 19 16]\n",
      "  [29 28 20]]\n",
      "\n",
      " [[28 22 20]\n",
      "  [22 24 29]\n",
      "  [23 21 23]]]\n",
      "[[20 29 25 28 25]\n",
      " [15 19 29 25 24]]\n"
     ]
    }
   ],
   "source": [
    "rand_int1 = np.random.randint(15) # create a random integer number from 0 to 15\n",
    "print(rand_int1)\n",
    "rand_int2 = np.random.randint(15,30) # create a random integer number from 15 to 30\n",
    "print(rand_int2)\n",
    "rand_int3 = np.random.randint(15,30,size=10) # create 10 random integers number from 15 to 30\n",
    "print(rand_int3)\n",
    "rand_int4 = np.random.randint(15,30,(3,3)) # create 3x3 matrix with random integers number from 15 to 30\n",
    "print(rand_int4)\n",
    "rand_int5 = np.random.randint(15,30,(3,3,3)) # create 3x3x3 matrix with random integers number from 15 to 30\n",
    "print(rand_int5)\n",
    "rand_int_6 = np.random.randint(15,30,size=10) # create 10 random integers number from 15 to 30\n",
    "rand_int_reshape = np.reshape(rand_int_6,(2,5)) # reshape the list to 2x5 matrix\n",
    "print(rand_int_reshape)"
   ]
  },
  {
   "cell_type": "markdown",
   "metadata": {},
   "source": [
    "### NumPy `rand` Function for Random Float Arrays:\n",
    "\n",
    "1. **`np.random.rand(5)`**:\n",
    "   - This creates a 1D array of 5 random floating-point numbers, each within the range `[0, 1)`. Each element is independently chosen from a uniform distribution over this interval.\n",
    "\n",
    "2. **`np.random.rand(2, 5)`**:\n",
    "   - This generates a 2D array with 2 rows and 5 columns, where each element is a random floating-point number between `0` and `1`.\n",
    "\n",
    "3. **`np.random.rand(3, 2, 5)`**:\n",
    "   - This creates a 3D array with a shape of `3x2x5`, meaning it contains 3 layers of `2x5` arrays. Each element in this 3D array is a random float between `0` and `1`.\n",
    "\n",
    "The `rand` function is useful for generating arrays filled with random floats within the `[0, 1)` range, with flexible control over the array’s shape and dimensions."
   ]
  },
  {
   "cell_type": "code",
   "execution_count": 20,
   "metadata": {},
   "outputs": [
    {
     "name": "stdout",
     "output_type": "stream",
     "text": [
      "[0.59500334 0.61532703 0.5082549  0.62487352 0.49469936]\n",
      "[[0.32030854 0.61233783 0.45932203 0.65363069 0.26825666]\n",
      " [0.99580491 0.57159496 0.66390121 0.39695826 0.59901913]]\n",
      "[[[0.16603339 0.28702515 0.40212848 0.92095833 0.22433287]\n",
      "  [0.80990145 0.73496429 0.11720421 0.83314948 0.42427883]]\n",
      "\n",
      " [[0.49775124 0.12103718 0.97788114 0.96464554 0.47621328]\n",
      "  [0.11306075 0.29592159 0.83847665 0.35384502 0.54943533]]\n",
      "\n",
      " [[0.42111678 0.48593823 0.43735111 0.5321804  0.06630691]\n",
      "  [0.58004357 0.21543573 0.32339688 0.57645472 0.80330853]]]\n"
     ]
    }
   ],
   "source": [
    "rand_float1 = np.random.rand(5)\n",
    "print(rand_float1)\n",
    "rand_float2 = np.random.rand(2,5)\n",
    "print(rand_float2)\n",
    "rand_float3 = np.random.rand(3,2,5)\n",
    "print(rand_float3)"
   ]
  },
  {
   "cell_type": "markdown",
   "metadata": {},
   "source": [
    "### NumPy Random Choice and Shuffle Functions:\n",
    "\n",
    "1. **`np.random.randint(0, 10, size=10)`**:\n",
    "   - This creates a 1D array of 10 random integers, each between `0` and `9`.\n",
    "\n",
    "2. **`np.random.choice(list_1)`**:\n",
    "   - This function randomly selects a single element from `list_1`.\n",
    "\n",
    "3. **`np.random.choice(list_1, size=5)`**:\n",
    "   - This selects 5 random elements from `list_1`, with each selection being independent. If `size=5` is specified, a 1D array of 5 randomly chosen elements is returned.\n",
    "\n",
    "4. **`np.random.shuffle(list_1)`**:\n",
    "   - This rearranges the elements in `list_1` randomly, modifying the original array in place. \n",
    "\n",
    "These functions are useful for selecting random samples, creating random subsets, and shuffling arrays to add randomness in simulations or randomized algorithms."
   ]
  },
  {
   "cell_type": "code",
   "execution_count": 21,
   "metadata": {},
   "outputs": [
    {
     "name": "stdout",
     "output_type": "stream",
     "text": [
      "[6 5 7 6 1 4 4 7 2 8]\n",
      "8\n",
      "[6 7 4 6 2]\n",
      "[2 5 8 4 1 6 7 6 7 4]\n"
     ]
    }
   ],
   "source": [
    "list_1 = np.random.randint(0,10,size=10) # create a random list of 10 elements \n",
    "print(list_1)\n",
    "a = np.random.choice(list_1) # choose a random element\n",
    "print(a)\n",
    "a = np.random.choice(list_1,size = 5) # choose 5 random elements\n",
    "print(a)\n",
    "np.random.shuffle(list_1) # rearrange list_1 randomly\n",
    "print(list_1)\n"
   ]
  },
  {
   "cell_type": "markdown",
   "metadata": {},
   "source": [
    "### NumPy Functions for Creating Arrays with Specific Values:\n",
    "\n",
    "1. **`np.zeros`**:\n",
    "   - **`np.zeros(2)`**: Creates a 1D array with 2 elements, all set to `0`.\n",
    "   - **`np.zeros((2, 3))`**: Creates a 2D array with 2 rows and 3 columns, all elements set to `0`.\n",
    "   - **`np.zeros((1, 2, 3))`**: Creates a 3D array with 1 layer, containing 2 rows and 3 columns per row, all elements set to `0`.\n",
    "\n",
    "2. **`np.ones`**:\n",
    "   - **`np.ones(2)`**: Creates a 1D array with 2 elements, all set to `1`.\n",
    "   - **`np.ones((2, 3))`**: Creates a 2D array with 2 rows and 3 columns, all elements set to `1`.\n",
    "   - **`np.ones((1, 2, 3))`**: Creates a 3D array with 1 layer, containing 2 rows and 3 columns per row, all elements set to `1`.\n",
    "\n",
    "3. **`np.eye`**:\n",
    "   - **`np.eye(2)`**: Creates a 2x2 identity matrix, where the diagonal elements are `1` and all other elements are `0`.\n",
    "\n",
    "4. **`np.full`**:\n",
    "   - **`np.full(2, 3)`**: Creates a 1D array with 2 elements, each set to `3`.\n",
    "   - **`np.full((2, 3), 35)`**: Creates a 2D array with 2 rows and 3 columns, with every element set to `35`.\n",
    "\n",
    "These functions are essential for creating arrays pre-filled with specific values, useful for initialization and setting default states in data processing and matrix operations."
   ]
  },
  {
   "cell_type": "code",
   "execution_count": 23,
   "metadata": {},
   "outputs": [
    {
     "name": "stdout",
     "output_type": "stream",
     "text": [
      "[0. 0.]\n",
      "[[0. 0. 0.]\n",
      " [0. 0. 0.]]\n",
      "[[[0. 0. 0.]\n",
      "  [0. 0. 0.]]]\n",
      "[1. 1.]\n",
      "[[1. 1. 1.]\n",
      " [1. 1. 1.]]\n",
      "[[[1. 1. 1.]\n",
      "  [1. 1. 1.]]]\n",
      "[[1. 0.]\n",
      " [0. 1.]]\n",
      "[3 3]\n",
      "[[35 35 35]\n",
      " [35 35 35]]\n"
     ]
    }
   ],
   "source": [
    "a = np.zeros(2)\n",
    "print(a)\n",
    "b = np.zeros((2,3))\n",
    "print(b)\n",
    "c = np.zeros((1,2,3))\n",
    "print(c)\n",
    "\n",
    "a = np.ones(2)\n",
    "print(a)\n",
    "b = np.ones((2,3))\n",
    "print(b)\n",
    "c = np.ones((1,2,3))\n",
    "print(c)\n",
    "\n",
    "a = np.eye(2)\n",
    "print(a)\n",
    "b = np.full(2,3)\n",
    "print(b)\n",
    "c = np.full((2,3), 35)\n",
    "print(c)"
   ]
  },
  {
   "cell_type": "markdown",
   "metadata": {},
   "source": [
    "### NumPy `arange` and `reshape` Functions:\n",
    "\n",
    "1. **`np.arange(18)`**:\n",
    "   - Generates a 1D array containing integers from `0` to `17`. The `arange` function creates evenly spaced values within a specified range.\n",
    "\n",
    "2. **`np.arange(30)`**:\n",
    "   - Creates a 1D array containing integers from `0` to `29`.\n",
    "\n",
    "3. **Reshaping Arrays**:\n",
    "   - **`a.reshape(3, 6)`**: Reshapes the array `a` into a 2D array with 3 rows and 6 columns. The total number of elements must remain the same (18 in this case).\n",
    "   - **`b.reshape(2, 3, 5)`**: Reshapes the array `b` into a 3D array with 2 layers, each containing 3 rows and 5 columns. Again, the total number of elements (30) must be preserved.\n",
    "\n",
    "These functions are useful for generating sequences of numbers and organizing them into different dimensional arrays, allowing for flexible data manipulation and analysis."
   ]
  },
  {
   "cell_type": "code",
   "execution_count": 25,
   "metadata": {},
   "outputs": [
    {
     "name": "stdout",
     "output_type": "stream",
     "text": [
      "[ 0  1  2  3  4  5  6  7  8  9 10 11 12 13 14 15 16 17]\n",
      "[ 0  1  2  3  4  5  6  7  8  9 10 11 12 13 14 15 16 17 18 19 20 21 22 23\n",
      " 24 25 26 27 28 29]\n",
      "[[ 0  1  2  3  4  5]\n",
      " [ 6  7  8  9 10 11]\n",
      " [12 13 14 15 16 17]]\n",
      "[[[ 0  1  2  3  4]\n",
      "  [ 5  6  7  8  9]\n",
      "  [10 11 12 13 14]]\n",
      "\n",
      " [[15 16 17 18 19]\n",
      "  [20 21 22 23 24]\n",
      "  [25 26 27 28 29]]]\n"
     ]
    }
   ],
   "source": [
    "a = np.arange(18)\n",
    "print(a)\n",
    "b = np.arange(30)\n",
    "print(b)\n",
    "\n",
    "a = a.reshape(3,6)\n",
    "print(a)\n",
    "b = b.reshape(2,3,5)\n",
    "print(b)"
   ]
  },
  {
   "cell_type": "markdown",
   "metadata": {},
   "source": [
    "### NumPy Operations on an Array:\n",
    "\n",
    "1. **`np.array([-4, -9, 16, 25])`**:\n",
    "   - This creates a NumPy array named `np1` with the elements `[-4, -9, 16, 25]`.\n",
    "\n",
    "2. **`print(f\"np1 : {np1}\")`**:\n",
    "   - Displays the original array `np1`.\n",
    "\n",
    "3. **`np.absolute(np1)`**:\n",
    "   - Calculates the absolute values of each element in `np1`. This function converts negative numbers to positive, resulting in the array `[4, 9, 16, 25]`.\n",
    "\n",
    "4. **`print(f\"absolute np1 : {np.absolute(np1)}\")`**:\n",
    "   - Displays the array of absolute values.\n",
    "\n",
    "5. **`np.sqrt(np1)`**:\n",
    "   - Computes the square root of each element in the absolute array. Since all values are non-negative, it returns `[2, 3, 4, 5]`.\n",
    "\n",
    "6. **`print(f\"sqrt : {np.sqrt(np1)}\")`**:\n",
    "   - Displays the square root of the absolute values.\n",
    "\n",
    "7. **`np.exp(np1)`**:\n",
    "   - Calculates the exponential (e raised to the power of each element) of `np1`. The output will include both large values for positive inputs and values close to zero for negative inputs.\n",
    "\n",
    "8. **`print(f\"exp np1 : {np.exp(np1)}\")`**:\n",
    "   - Displays the result of the exponential operation on `np1`.\n",
    "\n",
    "9. **`np.min(np1)`**:\n",
    "   - Finds the minimum value in `np1`. In this case, it returns `-9`, as it is the smallest element in the original array.\n",
    "\n",
    "10. **`print(f\"min np1 : {np.min(np1)}\")`**:\n",
    "    - Displays the minimum value.\n",
    "\n",
    "11. **`np.max(np1)`**:\n",
    "    - Identifies the maximum value in `np1`, which is `25`.\n",
    "\n",
    "12. **`print(f\"max np1 : {np.max(np1)}\")`**:\n",
    "    - Displays the maximum value.\n",
    "\n",
    "These operations demonstrate the versatility of NumPy for performing various mathematical functions on arrays, providing valuable statistical and mathematical insights into the data."
   ]
  },
  {
   "cell_type": "code",
   "execution_count": 31,
   "metadata": {},
   "outputs": [
    {
     "name": "stdout",
     "output_type": "stream",
     "text": [
      "np1 : [-4 -9 16 25]\n",
      "absolute np1 : [ 4  9 16 25]\n",
      "sqrt : [2. 3. 4. 5.]\n",
      "exp np1 : [5.45981500e+01 8.10308393e+03 8.88611052e+06 7.20048993e+10]\n",
      "min np1 : 4\n",
      "max np1 : 25\n"
     ]
    }
   ],
   "source": [
    "np1 = np.array([-4,-9,16,25])\n",
    "print(f\"np1 : {np1}\")\n",
    "print(f\"absolute np1 : {np.absolute(np1)}\")\n",
    "np1 = np.absolute(np1)\n",
    "print(f\"sqrt : {np.sqrt(np1)}\")\n",
    "print(f\"exp np1 : {np.exp(np1)}\")\n",
    "print(f\"min np1 : {np.min(np1)}\")\n",
    "print(f\"max np1 : {np.max(np1)}\")"
   ]
  },
  {
   "cell_type": "markdown",
   "metadata": {},
   "source": [
    "## View VS Copy\n",
    "In NumPy, understanding the difference between a \"view\" and a \"copy\" of an array is essential for efficient memory management and avoiding unintended side effects in data manipulation.\n",
    "\n",
    "**View**:\n",
    "- A view is a new array that references the same data as the original array.\n",
    "- When you create a view, any modifications made to the view will affect the original array since they share the same data in memory.\n",
    "- Views are useful when you want to perform operations on a subset of data without duplicating the entire dataset, thus saving memory.\n",
    "\n",
    "**Copy**:\n",
    "- A copy creates a new array that contains the same data as the original but is stored in a separate memory location.\n",
    "- Changes made to the copy do not affect the original array, and vice versa.\n",
    "- Copies are helpful when you want to work with data without the risk of modifying the original dataset.\n",
    "\n",
    "**As an Example**:\n",
    "**Creating Arrays**:\n",
    "- `np.array([1, 2, 3, 4, 5, 6])`: This creates a NumPy array named `np1` with the elements `[1, 2, 3, 4, 5, 6]`.\n",
    "\n",
    "**Creating a View**:\n",
    "- `np1.view()`: This creates a view of `np1`, which is stored in `np2`. A view is a new array that looks at the same data as the original array. Modifications to the view will affect the original array.\n",
    "\n",
    "**Creating a Copy**:\n",
    "- `np1.copy()`: This creates a copy of `np1`, stored in `np3`. A copy is a separate array with its own data. Changes to the copy do not affect the original array.\n",
    "\n",
    "**Before Editing**:\n",
    "- The initial state of the arrays is printed, showing:\n",
    "  - `np1 = [1, 2, 3, 4, 5, 6]`\n",
    "  - `np2 = [1, 2, 3, 4, 5, 6]` (same as `np1`, since it is a view)\n",
    "  - `np3 = [1, 2, 3, 4, 5, 6]` (a separate copy)\n",
    "\n",
    "**Editing the First Element**:\n",
    "- `np1[0] = 0`: The first element of `np1` is changed from `1` to `0`.\n",
    "\n",
    "**After Editing**:\n",
    "- The state of the arrays is printed again, showing:\n",
    "  - `np1 = [0, 2, 3, 4, 5, 6]` (original array modified)\n",
    "  - `np2 = [0, 2, 3, 4, 5, 6]` (view reflects the change in `np1`)\n",
    "  - `np3 = [1, 2, 3, 4, 5, 6]` (copy remains unchanged)"
   ]
  },
  {
   "cell_type": "code",
   "execution_count": 33,
   "metadata": {},
   "outputs": [
    {
     "name": "stdout",
     "output_type": "stream",
     "text": [
      "Before Editing The First Element : \n",
      "np1 = [1 2 3 4 5 6]\n",
      "np2 = [1 2 3 4 5 6]\n",
      "np3 = [1 2 3 4 5 6]\n",
      "******************************************************\n",
      "After Editing The First Element : \n",
      "np1 = [0 2 3 4 5 6]\n",
      "np2 = [0 2 3 4 5 6]\n",
      "np3 = [1 2 3 4 5 6]\n"
     ]
    }
   ],
   "source": [
    "# view vs copy \n",
    "np1 = np.array([1,2,3,4,5,6])\n",
    "np2 = np1.view()\n",
    "np3 = np1.copy()\n",
    "print(\"Before Editing The First Element : \")\n",
    "print(f\"np1 = {np1}\")\n",
    "print(f\"np2 = {np2}\")\n",
    "print(f\"np3 = {np3}\")\n",
    "\n",
    "#editing the first element\n",
    "np1[0] = 0\n",
    "\n",
    "print(\"******************************************************\")\n",
    "print(\"After Editing The First Element : \")\n",
    "print(f\"np1 = {np1}\")\n",
    "print(f\"np2 = {np2}\")\n",
    "print(f\"np3 = {np3}\")\n"
   ]
  },
  {
   "cell_type": "markdown",
   "metadata": {},
   "source": [
    "In NumPy, sorting is a fundamental operation used to arrange the elements of an array in a specified order. This can be applied to various data types, including numbers, strings, and boolean values. The `np.sort()` function is used for this purpose and returns a new array with the sorted elements while keeping the original array unchanged.\n",
    "\n",
    "### Concept of Sorting in NumPy:\n",
    "- **Sorting Numbers**: Numeric arrays can be sorted in ascending or descending order, making it easier to analyze or visualize data.\n",
    "- **Sorting Strings**: String arrays are sorted alphabetically, allowing for organized lists of text data.\n",
    "- **Sorting Boolean Values**: Boolean arrays are sorted based on their truth values, where `False` is considered less than `True`.\n",
    "- **Sorting 2D Arrays**: When sorting multi-dimensional arrays, `np.sort()` operates along the specified axis (default is the last axis) and returns a sorted version of the array.\n",
    "\n",
    "### Examples:\n",
    "#### Sorting Numbers:\n",
    "- **Creating an Array**:\n",
    "  - `np.array([3, 2, 1, 5, 7, 6])`: This creates a NumPy array named `np1` with integer values `[3, 2, 1, 5, 7, 6]`.\n",
    "- **Sorting Operation**:\n",
    "  - `np.sort(np1)`: This sorts `np1` in ascending order, resulting in `[1, 2, 3, 5, 6, 7]`.\n",
    "\n",
    "#### Sorting Alpha (Strings):\n",
    "- **Creating an Array**:\n",
    "  - `np.array([\"Mohamed\", \"Ahmed\", \"Salem\", \"Mahmoud\"])`: This creates a NumPy array named `np2` with string values `[\"Mohamed\", \"Ahmed\", \"Salem\", \"Mahmoud\"]`.\n",
    "- **Sorting Operation**:\n",
    "  - `np.sort(np2)`: This sorts the strings in alphabetical order, resulting in `[\"Ahmed\", \"Mahmoud\", \"Mohamed\", \"Salem\"]`.\n",
    "\n",
    "#### Sorting Boolean Values:\n",
    "- **Creating an Array**:\n",
    "  - `np.array([True, False, False, True])`: This creates a NumPy array named `np3` with boolean values `[True, False, False, True]`.\n",
    "- **Sorting Operation**:\n",
    "  - `np.sort(np3)`: This sorts the boolean values, resulting in `[False, False, True, True]` since `False` is considered less than `True`.\n",
    "\n",
    "#### Sorting a 2D Array:\n",
    "- **Creating a 2D Array**:\n",
    "  - `np.array([[5, 4, 7, 6], [2, 1, 0, 3]])`: This creates a 2D NumPy array named `np4`.\n",
    "- **Sorting Operation**:\n",
    "  - `np.sort(np4)`: This sorts the elements along the last axis (row-wise by default), resulting in:\n",
    "    ```\n",
    "    [[4, 5, 6, 7],\n",
    "     [0, 1, 2, 3]]\n",
    "    ```\n",
    "    Each row is sorted independently.\n",
    "\n",
    "### Summary:\n",
    "Sorting in NumPy provides an efficient way to organize and analyze data across various data types, including numbers, strings, boolean values, and multi-dimensional arrays. The `np.sort()` function facilitates this process, ensuring that the original data remains intact while providing a new sorted array."
   ]
  },
  {
   "cell_type": "code",
   "execution_count": 37,
   "metadata": {},
   "outputs": [
    {
     "name": "stdout",
     "output_type": "stream",
     "text": [
      "np1 : [3 2 1 5 7 6]\n",
      "np1 sorted : [1 2 3 5 6 7]\n",
      "np2 : ['Mohamed' 'Ahmed' 'Salem' 'Mahmoud']\n",
      "np2 sorted : ['Ahmed' 'Mahmoud' 'Mohamed' 'Salem']\n",
      "np3 : [ True False False  True]\n",
      "np3 sorted : [False False  True  True]\n",
      "np4 : [[5 4 7 6]\n",
      " [2 1 0 3]]\n",
      "np4 sorted : [[4 5 6 7]\n",
      " [0 1 2 3]]\n"
     ]
    }
   ],
   "source": [
    "#sorting numbers\n",
    "np1 = np.array([3,2,1,5,7,6])\n",
    "print(f\"np1 : {np1}\")\n",
    "print(f\"np1 sorted : {np.sort(np1)}\")\n",
    "\n",
    "#sorting Alpha\n",
    "np2 = np.array([\"Mohamed\",\"Ahmed\",\"Salem\",\"Mahmoud\"])\n",
    "print(f\"np2 : {np2}\")\n",
    "print(f\"np2 sorted : {np.sort(np2)}\")\n",
    "\n",
    "#sorting boolean\n",
    "np3 = np.array([True,False,False,True])\n",
    "print(f\"np3 : {np3}\")\n",
    "print(f\"np3 sorted : {np.sort(np3)}\")\n",
    "\n",
    "#sorting 2d-array\n",
    "np4 = np.array([[5,4,7,6],[2,1,0,3]])\n",
    "print(f\"np4 : {np4}\")\n",
    "print(f\"np4 sorted : {np.sort(np4)}\")"
   ]
  },
  {
   "cell_type": "markdown",
   "metadata": {},
   "source": [
    "In NumPy, the `np.where()` function is a powerful tool for conditional indexing. It allows you to locate the indices of elements in an array that satisfy a given condition.\n",
    "\n",
    "### Explanation of the Code:\n",
    "\n",
    "1. **Creating the Array**:\n",
    "   - `np.array([1, 2, 3, 4, 5, 6, 7, 8, 9, 10, 3, 2, 1])`: This creates a NumPy array named `np1` containing the integers from 1 to 10, along with some duplicates.\n",
    "\n",
    "2. **Finding Indices of a Specific Value**:\n",
    "   - `np.where(np1 == 3)`: This line checks for elements in `np1` that are equal to `3`. It returns a tuple of arrays, where the first element contains the indices of all occurrences of `3`.\n",
    "\n",
    "3. **Output of `np.where()`**:\n",
    "   - `print(f\"where output : {x}\")`: This prints the output of `np.where()`, which shows the indices of the elements equal to `3`.\n",
    "\n",
    "4. **Accessing Indices**:\n",
    "   - `print(f\"indicies of elements whose values = 3 : {x[0]}\")`: This prints the indices of the elements in `np1` that are equal to `3`.\n",
    "\n",
    "5. **Retrieving Values from Indices**:\n",
    "   - `print(f\"values of the found elements using the indicies : {np1[x[0]]}\")`: This retrieves the actual values from `np1` at the identified indices. It will show the occurrences of `3` in the array.\n",
    "\n",
    "6. **Finding Even Numbers**:\n",
    "   - `x = np.where(np1 % 2 == 0)`: This line finds the indices of even numbers in the array by checking if the elements are divisible by `2` without a remainder.\n",
    "\n",
    "7. **Output of Even Number Indices**:\n",
    "   - `print(f\"the indices of the even numbers : {x[0]}\")`: This prints the indices of the even numbers found in `np1`.\n",
    "\n",
    "8. **Retrieving Even Numbers**:\n",
    "   - `print(f\"the even numbers : {np1[x[0]]}\")`: This retrieves the actual even numbers from `np1` using the indices found in the previous step.\n",
    "\n",
    "### Summary:\n",
    "The code effectively demonstrates how to use `np.where()` to locate specific values and conditions within a NumPy array. Initially, it identifies and retrieves the occurrences of the number `3`, and then it extends the functionality to find and display even numbers, showcasing the versatility of conditional indexing in data manipulation tasks."
   ]
  },
  {
   "cell_type": "code",
   "execution_count": 43,
   "metadata": {},
   "outputs": [
    {
     "name": "stdout",
     "output_type": "stream",
     "text": [
      "where output : (array([ 2, 10]),)\n",
      "indicies of elements whose values = 3 : [ 2 10]\n",
      "values of the found elements using the indicies : [3 3]\n",
      "the indices of the even numbers : [ 1  3  5  7  9 11]\n",
      "the even numbers : [ 2  4  6  8 10  2]\n"
     ]
    }
   ],
   "source": [
    "np1 = np.array([1,2,3,4,5,6,7,8,9,10,3,2,1])\n",
    "x = np.where(np1 == 3)\n",
    "print(f\"where output : {x}\") # the result of where\n",
    "print(f\"indicies of elements whose values = 3 : {x[0]}\") # the first element which includes the index\n",
    "print(f\"values of the found elements using the indicies : {np1[x[0]]}\") # the actual value (elements at that index)\n",
    "\n",
    "# exercise : return even numbers\n",
    "x = np.where(np1 %2 ==0)\n",
    "print(f\"the indices of the even numbers : {x[0]}\") # the first element which includes the index\n",
    "print(f\"the even numbers : {np1[x[0]]}\") # the actual value (elements at that index)\n"
   ]
  },
  {
   "cell_type": "markdown",
   "metadata": {},
   "source": [
    "In NumPy, filtering an array allows you to extract elements that meet certain conditions. This can be done using various methods, demonstrating the flexibility and efficiency of NumPy for data manipulation.\n",
    "\n",
    "### Explanation of the Code:\n",
    "\n",
    "1. **Creating the Array**:\n",
    "   - `np.array([1, 2, 3, 4, 5, 6, 7, 8, 9, 10])`: This creates a NumPy array named `np1` containing integers from 1 to 10.\n",
    "\n",
    "2. **Method 1: Manual Filtering with a Boolean List**:\n",
    "   - `values = [False, True, False, True, False, True, False, True, False, True]`: A boolean list is created where each position corresponds to whether the number at that index in `np1` is even.\n",
    "   - `print(f\"Method 1 : {np1[values]}\")`: This filters `np1` using the boolean list, resulting in an array of even numbers: `[2, 4, 6, 8, 10]`.\n",
    "\n",
    "3. **Method 2: Using Loops for Filtering**:\n",
    "   - `m2 = []`: An empty list `m2` is initialized to store boolean values.\n",
    "   - A `for` loop iterates over each element in `np1`. If the element is even (`element % 2 == 0`), `True` is appended to `m2`; otherwise, `False` is appended.\n",
    "   - `print(f\"Method 2 : {np1[m2]}\")`: The boolean list `m2` is then used to filter `np1`, producing the same result as Method 1: `[2, 4, 6, 8, 10]`.\n",
    "\n",
    "4. **Method 3: Vectorized Operation Using NumPy**:\n",
    "   - `m3 = np1 % 2 == 0`: This line uses NumPy's vectorized operations to create a boolean array `m3` where each element indicates whether the corresponding element in `np1` is even.\n",
    "   - `print(f\"Method 3 : {np1[m3]}\")`: Finally, `np1` is filtered using `m3`, yielding the same even numbers: `[2, 4, 6, 8, 10]`.\n",
    "\n",
    "### Summary:\n",
    "The code illustrates three different methods for filtering even numbers from a NumPy array:\n",
    "- **Method 1** demonstrates using a predefined boolean list.\n",
    "- **Method 2** shows how to achieve filtering with a traditional loop.\n",
    "- **Method 3** leverages NumPy's ability to handle operations in a vectorized manner, which is typically the most efficient and concise approach.\n",
    "\n",
    "These methods highlight the flexibility of NumPy in handling array operations and filtering data efficiently."
   ]
  },
  {
   "cell_type": "code",
   "execution_count": 46,
   "metadata": {},
   "outputs": [
    {
     "name": "stdout",
     "output_type": "stream",
     "text": [
      "Method 1 : [ 2  4  6  8 10]\n",
      "Method 2 : [ 2  4  6  8 10]\n",
      "Method 3 : [ 2  4  6  8 10]\n"
     ]
    }
   ],
   "source": [
    "# filter numpy array (print the even values as an example)\n",
    "np1 = np.array([1,2,3,4,5,6,7,8,9,10])\n",
    "\n",
    "# method 1 : by your self\n",
    "values = [False,True,False,True,False,True,False,True,False,True]\n",
    "print(f\"Method 1 : {np1[values]}\")\n",
    "\n",
    "# method 2 : by using loops\n",
    "m2 = []\n",
    "for element in np1:\n",
    "    if element%2==0:\n",
    "        m2.append(True)\n",
    "    else:\n",
    "        m2.append(False)\n",
    "print(f\"Method 2 : {np1[m2]}\")\n",
    "\n",
    "# method 3 : by using yhe power of numpy\n",
    "m3 = np1 % 2 == 0\n",
    "print(f\"Method 3 : {np1[m3]}\")\n",
    "\n"
   ]
  },
  {
   "cell_type": "markdown",
   "metadata": {},
   "source": [
    "# Thanks"
   ]
  }
 ],
 "metadata": {
  "kernelspec": {
   "display_name": "Python 3",
   "language": "python",
   "name": "python3"
  },
  "language_info": {
   "codemirror_mode": {
    "name": "ipython",
    "version": 3
   },
   "file_extension": ".py",
   "mimetype": "text/x-python",
   "name": "python",
   "nbconvert_exporter": "python",
   "pygments_lexer": "ipython3",
   "version": "3.12.7"
  }
 },
 "nbformat": 4,
 "nbformat_minor": 2
}
